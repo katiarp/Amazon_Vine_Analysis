{
  "nbformat": 4,
  "nbformat_minor": 0,
  "metadata": {
    "colab": {
      "provenance": []
    },
    "kernelspec": {
      "name": "python3",
      "display_name": "Python 3"
    },
    "language_info": {
      "name": "python"
    }
  },
  "cells": [
    {
      "cell_type": "code",
      "execution_count": 1,
      "metadata": {
        "colab": {
          "base_uri": "https://localhost:8080/"
        },
        "id": "IkLlCUt3skdt",
        "outputId": "5dbab8de-f89a-4064-e5f7-365812b8487f"
      },
      "outputs": [
        {
          "output_type": "stream",
          "name": "stdout",
          "text": [
            "\r0% [Working]\r            \rGet:1 https://cloud.r-project.org/bin/linux/ubuntu bionic-cran40/ InRelease [3,626 B]\n",
            "Ign:2 https://developer.download.nvidia.com/compute/machine-learning/repos/ubuntu1804/x86_64  InRelease\n",
            "Hit:3 https://developer.download.nvidia.com/compute/cuda/repos/ubuntu1804/x86_64  InRelease\n",
            "Get:4 http://security.ubuntu.com/ubuntu bionic-security InRelease [88.7 kB]\n",
            "Hit:5 https://developer.download.nvidia.com/compute/machine-learning/repos/ubuntu1804/x86_64  Release\n",
            "Hit:6 http://archive.ubuntu.com/ubuntu bionic InRelease\n",
            "Get:7 http://archive.ubuntu.com/ubuntu bionic-updates InRelease [88.7 kB]\n",
            "Get:8 http://ppa.launchpad.net/c2d4u.team/c2d4u4.0+/ubuntu bionic InRelease [15.9 kB]\n",
            "Get:9 http://archive.ubuntu.com/ubuntu bionic-backports InRelease [83.3 kB]\n",
            "Hit:10 http://ppa.launchpad.net/cran/libgit2/ubuntu bionic InRelease\n",
            "Hit:12 http://ppa.launchpad.net/deadsnakes/ppa/ubuntu bionic InRelease\n",
            "Hit:13 http://ppa.launchpad.net/graphics-drivers/ppa/ubuntu bionic InRelease\n",
            "Get:14 http://ppa.launchpad.net/c2d4u.team/c2d4u4.0+/ubuntu bionic/main Sources [2,235 kB]\n",
            "Get:15 http://ppa.launchpad.net/c2d4u.team/c2d4u4.0+/ubuntu bionic/main amd64 Packages [1,143 kB]\n",
            "Fetched 3,659 kB in 4s (932 kB/s)\n",
            "Reading package lists... Done\n"
          ]
        }
      ],
      "source": [
        "import os\n",
        "# Find the latest version of spark 3.2 from http://www.apache.org/dist/spark/ and enter as the spark version\n",
        "# For example:\n",
        "# spark_version = 'spark-3.2.3'\n",
        "spark_version = 'spark-3.2.3'\n",
        "os.environ['SPARK_VERSION']=spark_version\n",
        "\n",
        "# Install Spark and Java\n",
        "!apt-get update\n",
        "!apt-get install openjdk-11-jdk-headless -qq > /dev/null\n",
        "!wget -q http://www.apache.org/dist/spark/$SPARK_VERSION/$SPARK_VERSION-bin-hadoop2.7.tgz\n",
        "!tar xf $SPARK_VERSION-bin-hadoop2.7.tgz\n",
        "!pip install -q findspark\n",
        "\n",
        "# Set Environment Variables\n",
        "import os\n",
        "os.environ[\"JAVA_HOME\"] = \"/usr/lib/jvm/java-11-openjdk-amd64\"\n",
        "os.environ[\"SPARK_HOME\"] = f\"/content/{spark_version}-bin-hadoop2.7\"\n",
        "\n",
        "# Start a SparkSession\n",
        "import findspark\n",
        "findspark.init()"
      ]
    },
    {
      "cell_type": "code",
      "source": [
        "# Download the Postgres driver that will allow Spark to interact with Postgres.\n",
        "!wget https://jdbc.postgresql.org/download/postgresql-42.2.16.jar"
      ],
      "metadata": {
        "colab": {
          "base_uri": "https://localhost:8080/"
        },
        "id": "wxuojHZGstEA",
        "outputId": "9e2f9f2d-ae66-4981-e900-392d32eb3404"
      },
      "execution_count": 2,
      "outputs": [
        {
          "output_type": "stream",
          "name": "stdout",
          "text": [
            "--2022-12-28 05:19:38--  https://jdbc.postgresql.org/download/postgresql-42.2.16.jar\n",
            "Resolving jdbc.postgresql.org (jdbc.postgresql.org)... 72.32.157.228, 2001:4800:3e1:1::228\n",
            "Connecting to jdbc.postgresql.org (jdbc.postgresql.org)|72.32.157.228|:443... connected.\n",
            "HTTP request sent, awaiting response... 200 OK\n",
            "Length: 1002883 (979K) [application/java-archive]\n",
            "Saving to: ‘postgresql-42.2.16.jar’\n",
            "\n",
            "postgresql-42.2.16. 100%[===================>] 979.38K  4.94MB/s    in 0.2s    \n",
            "\n",
            "2022-12-28 05:19:38 (4.94 MB/s) - ‘postgresql-42.2.16.jar’ saved [1002883/1002883]\n",
            "\n"
          ]
        }
      ]
    },
    {
      "cell_type": "code",
      "source": [
        "from pyspark.sql import SparkSession\n",
        "spark = SparkSession.builder.appName(\"Vine_Review_Analysis\").config(\"spark.driver.extraClassPath\",\"/content/postgresql-42.2.16.jar\").getOrCreate()"
      ],
      "metadata": {
        "id": "lvpI4ZfMs6Cx"
      },
      "execution_count": 3,
      "outputs": []
    },
    {
      "cell_type": "code",
      "source": [
        "from pyspark import SparkFiles\n",
        "url = \"https://s3.amazonaws.com/amazon-reviews-pds/tsv/amazon_reviews_us_Video_DVD_v1_00.tsv.gz\"\n",
        "spark.sparkContext.addFile(url)\n",
        "df = spark.read.option(\"encoding\", \"UTF-8\").csv(SparkFiles.get(\"\"), sep=\"\\t\", header=True, inferSchema=True)\n",
        "df.show()"
      ],
      "metadata": {
        "id": "LHhQ2JtOtAue",
        "colab": {
          "base_uri": "https://localhost:8080/"
        },
        "outputId": "79ac344c-3194-44a2-e15c-1c69fd1d2dab"
      },
      "execution_count": 4,
      "outputs": [
        {
          "output_type": "stream",
          "name": "stdout",
          "text": [
            "+-----------+-----------+--------------+----------+--------------+--------------------+----------------+-----------+-------------+-----------+----+-----------------+--------------------+--------------------+-----------+\n",
            "|marketplace|customer_id|     review_id|product_id|product_parent|       product_title|product_category|star_rating|helpful_votes|total_votes|vine|verified_purchase|     review_headline|         review_body|review_date|\n",
            "+-----------+-----------+--------------+----------+--------------+--------------------+----------------+-----------+-------------+-----------+----+-----------------+--------------------+--------------------+-----------+\n",
            "|         US|   27288431| R33UPQQUZQEM8|B005T4ND06|     400024643|Yoga for Movement...|       Video DVD|          5|            3|          3|   N|                Y|This was a gift f...|This was a gift f...| 2015-08-31|\n",
            "|         US|   13722556|R3IKTNQQPD9662|B004EPZ070|     685335564|  Something Borrowed|       Video DVD|          5|            0|          0|   N|                Y|          Five Stars| Teats my heart out.| 2015-08-31|\n",
            "|         US|   20381037|R3U27V5QMCP27T|B005S9EKCW|     922008804|Les Miserables (2...|       Video DVD|          5|            1|          1|   N|                Y|        Great movie!|        Great movie.| 2015-08-31|\n",
            "|         US|   24852644|R2TOH2QKNK4IOC|B00FC1ZCB4|     326560548|Alien Anthology a...|       Video DVD|          5|            0|          1|   N|                Y|             Amazing|My husband was so...| 2015-08-31|\n",
            "|         US|   15556113|R2XQG5NJ59UFMY|B002ZG98Z0|     637495038|  Sex and the City 2|       Video DVD|          5|            0|          0|   N|                Y|          Five Stars|   Love this series.| 2015-08-31|\n",
            "|         US|    6132474|R1N1KHBRR4ZTX3|B00X8RONBO|     896602391|When Calls The He...|       Video DVD|          5|            0|          0|   N|                Y|          Five Stars|            love it!| 2015-08-31|\n",
            "|         US|   48049524|R3OM9S0TCBP38K|B000CEXFZG|     115883890|Teen Titans - The...|       Video DVD|          5|            0|          0|   N|                Y|               Great|Better than the c...| 2015-08-31|\n",
            "|         US|    3282516|R1W4S949ZRCTBW|B00ID8H8EW|     977932459|      Generation War|       Video DVD|          5|            0|          0|   N|                Y|          Five Stars|I really emjoyed ...| 2015-08-31|\n",
            "|         US|   51771179|R18JL1NNQAZFV2|B000TGJ8IU|     840084782|Troy  (Director's...|       Video DVD|          5|            0|          0|   N|                Y|          Five Stars|Awesome movie, we...| 2015-08-31|\n",
            "|         US|   31816501|R1LP6PR06OPYUX|B00DPMPTDS|     262144920|Faith Aka the Gre...|       Video DVD|          4|            0|          0|   N|                Y|a beautiful fanta...|...a beautiful fa...| 2015-08-31|\n",
            "|         US|   16164990| RZKBT035JA0UQ|B00X797LUS|     883589001|   Revenge: Season 4|       Video DVD|          5|            1|          2|   N|                Y|  It's a hit with me|I don't usually w...| 2015-08-31|\n",
            "|         US|   33386989|R253N5W74SM7N3|B00C6MXB42|     734735137|YOUNG INDIANA JON...|       Video DVD|          4|            1|          1|   N|                Y|great stuff. I th...|great stuff.  I t...| 2015-08-31|\n",
            "|         US|   45486371|R2D5IFTFPHD3RN|B000EZ9084|     821764517|     Survival Island|       Video DVD|          4|            1|          1|   N|                Y|          Four Stars|           very good| 2015-08-31|\n",
            "|         US|   14006420|R1CECK3H1URK1G|B000CEXFZG|     115883890|Teen Titans - The...|       Video DVD|          5|            0|          0|   N|                Y|          Five Stars|Kids love the DVD...| 2015-08-31|\n",
            "|         US|   23411619|R11MHQRE45204T|B00KXEM6XM|     651533797|     Fargo: Season 1|       Video DVD|          5|            0|          0|   N|                Y|A wonderful cover...|Great news Fargo ...| 2015-08-31|\n",
            "|         US|    3202332| RSX9F068J0GXJ|B0036K9CM8|     231498541|Disney Parks: The...|       Video DVD|          5|            0|          0|   N|                Y|We love Disney an...|We love Disney an...| 2015-08-31|\n",
            "|         US|   32012808|R1TUMFHZBBOWKL|B00G3HOJZ6|     847624020|Young Detective D...|       Video DVD|          5|            0|          0|   N|                Y|Excellent Movie f...|This is a surpris...| 2015-08-31|\n",
            "|         US|   36507765| R8IZ1G1TWGK0E|B00V5E7YR2|     478422254|The Divergent Ser...|       Video DVD|          5|            0|          0|   N|                Y|          Five Stars|          Good movie| 2015-08-31|\n",
            "|         US|   13696097|R1CBN0585B7BI4|B005BUA1JY|     700104332|Barney Miller: Th...|       Video DVD|          5|            0|          1|   N|                Y|          Five Stars|This show is a cl...| 2015-08-31|\n",
            "|         US|    2190805|R2PJOAZ9I3D8O8|B00YCY46VO|     710263340|Inside Out (Blu-r...|       Video DVD|          5|            2|          2|   N|                N|An Instant Master...|Inside Out revolv...| 2015-08-31|\n",
            "+-----------+-----------+--------------+----------+--------------+--------------------+----------------+-----------+-------------+-----------+----+-----------------+--------------------+--------------------+-----------+\n",
            "only showing top 20 rows\n",
            "\n"
          ]
        }
      ]
    },
    {
      "cell_type": "code",
      "source": [
        "rows= df.count()\n",
        "print(f\"row count : {rows}\")"
      ],
      "metadata": {
        "colab": {
          "base_uri": "https://localhost:8080/"
        },
        "id": "4j7xEfpHt7t-",
        "outputId": "78f5bc89-8cac-480d-f65a-96d8be4b96f7"
      },
      "execution_count": 5,
      "outputs": [
        {
          "output_type": "stream",
          "name": "stdout",
          "text": [
            "row count : 5069140\n"
          ]
        }
      ]
    },
    {
      "cell_type": "code",
      "source": [
        "print(\"Distinct Count: \" + str(df.distinct().count()))"
      ],
      "metadata": {
        "colab": {
          "base_uri": "https://localhost:8080/"
        },
        "id": "XOwzYLfd6V47",
        "outputId": "fbf0ed6f-e91c-47d1-cb99-69e4d4f68fae"
      },
      "execution_count": 6,
      "outputs": [
        {
          "output_type": "stream",
          "name": "stdout",
          "text": [
            "Distinct Count: 5069140\n"
          ]
        }
      ]
    },
    {
      "cell_type": "code",
      "source": [
        "from pyspark.sql.functions import to_date\n",
        "# Read in the Review dataset as a DataFrame\n",
        "df_review= df.select([\"review_id\",\"customer_id\",\"product_id\", \"product_parent\", \"review_date\"])\n",
        "df_review.show()"
      ],
      "metadata": {
        "colab": {
          "base_uri": "https://localhost:8080/"
        },
        "id": "YGtbMmo_tGzw",
        "outputId": "db50c31f-3890-47c4-a57d-1c8a75b62d0e"
      },
      "execution_count": 7,
      "outputs": [
        {
          "output_type": "stream",
          "name": "stdout",
          "text": [
            "+--------------+-----------+----------+--------------+-----------+\n",
            "|     review_id|customer_id|product_id|product_parent|review_date|\n",
            "+--------------+-----------+----------+--------------+-----------+\n",
            "| R33UPQQUZQEM8|   27288431|B005T4ND06|     400024643| 2015-08-31|\n",
            "|R3IKTNQQPD9662|   13722556|B004EPZ070|     685335564| 2015-08-31|\n",
            "|R3U27V5QMCP27T|   20381037|B005S9EKCW|     922008804| 2015-08-31|\n",
            "|R2TOH2QKNK4IOC|   24852644|B00FC1ZCB4|     326560548| 2015-08-31|\n",
            "|R2XQG5NJ59UFMY|   15556113|B002ZG98Z0|     637495038| 2015-08-31|\n",
            "|R1N1KHBRR4ZTX3|    6132474|B00X8RONBO|     896602391| 2015-08-31|\n",
            "|R3OM9S0TCBP38K|   48049524|B000CEXFZG|     115883890| 2015-08-31|\n",
            "|R1W4S949ZRCTBW|    3282516|B00ID8H8EW|     977932459| 2015-08-31|\n",
            "|R18JL1NNQAZFV2|   51771179|B000TGJ8IU|     840084782| 2015-08-31|\n",
            "|R1LP6PR06OPYUX|   31816501|B00DPMPTDS|     262144920| 2015-08-31|\n",
            "| RZKBT035JA0UQ|   16164990|B00X797LUS|     883589001| 2015-08-31|\n",
            "|R253N5W74SM7N3|   33386989|B00C6MXB42|     734735137| 2015-08-31|\n",
            "|R2D5IFTFPHD3RN|   45486371|B000EZ9084|     821764517| 2015-08-31|\n",
            "|R1CECK3H1URK1G|   14006420|B000CEXFZG|     115883890| 2015-08-31|\n",
            "|R11MHQRE45204T|   23411619|B00KXEM6XM|     651533797| 2015-08-31|\n",
            "| RSX9F068J0GXJ|    3202332|B0036K9CM8|     231498541| 2015-08-31|\n",
            "|R1TUMFHZBBOWKL|   32012808|B00G3HOJZ6|     847624020| 2015-08-31|\n",
            "| R8IZ1G1TWGK0E|   36507765|B00V5E7YR2|     478422254| 2015-08-31|\n",
            "|R1CBN0585B7BI4|   13696097|B005BUA1JY|     700104332| 2015-08-31|\n",
            "|R2PJOAZ9I3D8O8|    2190805|B00YCY46VO|     710263340| 2015-08-31|\n",
            "+--------------+-----------+----------+--------------+-----------+\n",
            "only showing top 20 rows\n",
            "\n"
          ]
        }
      ]
    },
    {
      "cell_type": "code",
      "source": [
        "# Create the vine_table. DataFrame\n",
        "vine_df = df.select([\"review_id\",\"star_rating\",\"helpful_votes\",\"total_votes\",\"vine\",\"verified_purchase\"])\n",
        "vine_df.show()"
      ],
      "metadata": {
        "colab": {
          "base_uri": "https://localhost:8080/"
        },
        "id": "RAddQ7T2tWDw",
        "outputId": "b5886049-7da5-468f-a178-3bcee50c85ea"
      },
      "execution_count": 8,
      "outputs": [
        {
          "output_type": "stream",
          "name": "stdout",
          "text": [
            "+--------------+-----------+-------------+-----------+----+-----------------+\n",
            "|     review_id|star_rating|helpful_votes|total_votes|vine|verified_purchase|\n",
            "+--------------+-----------+-------------+-----------+----+-----------------+\n",
            "| R33UPQQUZQEM8|          5|            3|          3|   N|                Y|\n",
            "|R3IKTNQQPD9662|          5|            0|          0|   N|                Y|\n",
            "|R3U27V5QMCP27T|          5|            1|          1|   N|                Y|\n",
            "|R2TOH2QKNK4IOC|          5|            0|          1|   N|                Y|\n",
            "|R2XQG5NJ59UFMY|          5|            0|          0|   N|                Y|\n",
            "|R1N1KHBRR4ZTX3|          5|            0|          0|   N|                Y|\n",
            "|R3OM9S0TCBP38K|          5|            0|          0|   N|                Y|\n",
            "|R1W4S949ZRCTBW|          5|            0|          0|   N|                Y|\n",
            "|R18JL1NNQAZFV2|          5|            0|          0|   N|                Y|\n",
            "|R1LP6PR06OPYUX|          4|            0|          0|   N|                Y|\n",
            "| RZKBT035JA0UQ|          5|            1|          2|   N|                Y|\n",
            "|R253N5W74SM7N3|          4|            1|          1|   N|                Y|\n",
            "|R2D5IFTFPHD3RN|          4|            1|          1|   N|                Y|\n",
            "|R1CECK3H1URK1G|          5|            0|          0|   N|                Y|\n",
            "|R11MHQRE45204T|          5|            0|          0|   N|                Y|\n",
            "| RSX9F068J0GXJ|          5|            0|          0|   N|                Y|\n",
            "|R1TUMFHZBBOWKL|          5|            0|          0|   N|                Y|\n",
            "| R8IZ1G1TWGK0E|          5|            0|          0|   N|                Y|\n",
            "|R1CBN0585B7BI4|          5|            0|          1|   N|                Y|\n",
            "|R2PJOAZ9I3D8O8|          5|            2|          2|   N|                N|\n",
            "+--------------+-----------+-------------+-----------+----+-----------------+\n",
            "only showing top 20 rows\n",
            "\n"
          ]
        }
      ]
    },
    {
      "cell_type": "code",
      "source": [
        "vine_df.printSchema()"
      ],
      "metadata": {
        "colab": {
          "base_uri": "https://localhost:8080/"
        },
        "id": "a8x1wIsUvcft",
        "outputId": "42c70978-c54b-4e73-b132-5f2ec5ea27d7"
      },
      "execution_count": 9,
      "outputs": [
        {
          "output_type": "stream",
          "name": "stdout",
          "text": [
            "root\n",
            " |-- review_id: string (nullable = true)\n",
            " |-- star_rating: integer (nullable = true)\n",
            " |-- helpful_votes: integer (nullable = true)\n",
            " |-- total_votes: integer (nullable = true)\n",
            " |-- vine: string (nullable = true)\n",
            " |-- verified_purchase: string (nullable = true)\n",
            "\n"
          ]
        }
      ]
    },
    {
      "cell_type": "code",
      "source": [
        "total_votes_greater_20= vine_df.filter(\"total_votes>=20\")\n",
        "total_votes_greater_20.show()"
      ],
      "metadata": {
        "colab": {
          "base_uri": "https://localhost:8080/"
        },
        "id": "007koEKPxiVh",
        "outputId": "948b096c-ce32-43a8-8109-b894d79ffdf2"
      },
      "execution_count": 10,
      "outputs": [
        {
          "output_type": "stream",
          "name": "stdout",
          "text": [
            "+--------------+-----------+-------------+-----------+----+-----------------+\n",
            "|     review_id|star_rating|helpful_votes|total_votes|vine|verified_purchase|\n",
            "+--------------+-----------+-------------+-----------+----+-----------------+\n",
            "|R31EUR60FV3BU5|          4|           32|         39|   N|                N|\n",
            "|R12Q1NO1HI9PP4|          1|            4|         86|   N|                N|\n",
            "|R3MDX24QDAT0OW|          4|           35|         37|   N|                N|\n",
            "|R2YVFZB4ESDT7D|          5|          139|        141|   N|                Y|\n",
            "| R6TNONSNFM82I|          1|            0|         28|   N|                Y|\n",
            "|R2R8EWH1JUZCSI|          5|           16|         21|   N|                N|\n",
            "| RUNB838XKMB59|          1|            8|         23|   N|                N|\n",
            "|R3I8GORXGEJL3R|          4|           95|        103|   N|                Y|\n",
            "|R2WFUSIPJ3X0FR|          1|            9|         53|   N|                N|\n",
            "| RONWXF0J85CRR|          5|           42|         50|   N|                N|\n",
            "|R15OUJIUGMTNW7|          1|            1|         33|   N|                N|\n",
            "|R2QQJIJZIUSQBH|          1|           16|         20|   N|                N|\n",
            "| RGWTSZJT5WJ35|          1|            9|         50|   N|                N|\n",
            "|R3O7T74HRIXBE5|          5|           53|         55|   N|                Y|\n",
            "| RSU37FK0W4DPE|          4|           26|         28|   N|                N|\n",
            "|R22H100N6EUD0Y|          5|           30|         32|   N|                Y|\n",
            "| R4VC9LDQGIE5K|          5|           26|         37|   N|                N|\n",
            "| RWMH3PU2EECVA|          5|           35|         38|   N|                Y|\n",
            "|R2XTQWXL65VPOZ|          4|           22|         24|   N|                N|\n",
            "| RGIM9S035SVIA|          4|           38|         44|   N|                N|\n",
            "+--------------+-----------+-------------+-----------+----+-----------------+\n",
            "only showing top 20 rows\n",
            "\n"
          ]
        }
      ]
    },
    {
      "cell_type": "code",
      "source": [
        "helpful_votes_greater_50_percent= total_votes_greater_20.filter(\"helpful_votes/total_votes >= 0.5\")\n",
        "helpful_votes_greater_50_percent.show()"
      ],
      "metadata": {
        "colab": {
          "base_uri": "https://localhost:8080/"
        },
        "id": "TeW5KMvlyheI",
        "outputId": "1aaf2661-4d9f-4ca1-9b92-04e17bf822a7"
      },
      "execution_count": 11,
      "outputs": [
        {
          "output_type": "stream",
          "name": "stdout",
          "text": [
            "+--------------+-----------+-------------+-----------+----+-----------------+\n",
            "|     review_id|star_rating|helpful_votes|total_votes|vine|verified_purchase|\n",
            "+--------------+-----------+-------------+-----------+----+-----------------+\n",
            "|R31EUR60FV3BU5|          4|           32|         39|   N|                N|\n",
            "|R3MDX24QDAT0OW|          4|           35|         37|   N|                N|\n",
            "|R2YVFZB4ESDT7D|          5|          139|        141|   N|                Y|\n",
            "|R2R8EWH1JUZCSI|          5|           16|         21|   N|                N|\n",
            "|R3I8GORXGEJL3R|          4|           95|        103|   N|                Y|\n",
            "| RONWXF0J85CRR|          5|           42|         50|   N|                N|\n",
            "|R2QQJIJZIUSQBH|          1|           16|         20|   N|                N|\n",
            "|R3O7T74HRIXBE5|          5|           53|         55|   N|                Y|\n",
            "| RSU37FK0W4DPE|          4|           26|         28|   N|                N|\n",
            "|R22H100N6EUD0Y|          5|           30|         32|   N|                Y|\n",
            "| R4VC9LDQGIE5K|          5|           26|         37|   N|                N|\n",
            "| RWMH3PU2EECVA|          5|           35|         38|   N|                Y|\n",
            "|R2XTQWXL65VPOZ|          4|           22|         24|   N|                N|\n",
            "| RGIM9S035SVIA|          4|           38|         44|   N|                N|\n",
            "|R18ZPPQ2CZKG41|          5|           16|         20|   N|                N|\n",
            "|R2FK3TE1JD2UXM|          5|           40|         44|   N|                N|\n",
            "|R22X6BZQKZA30V|          1|           29|         34|   N|                Y|\n",
            "| RS3V339OCGT2D|          5|           84|         97|   N|                N|\n",
            "| RCZ5IXAQ4J4NQ|          5|           22|         36|   N|                N|\n",
            "| ROS0GMA6IUSCP|          5|           34|         36|   N|                N|\n",
            "+--------------+-----------+-------------+-----------+----+-----------------+\n",
            "only showing top 20 rows\n",
            "\n"
          ]
        }
      ]
    },
    {
      "cell_type": "code",
      "source": [
        "vine_paid= helpful_votes_greater_50_percent.filter(\"vine == 'Y'\")\n",
        "vine_paid.show()"
      ],
      "metadata": {
        "colab": {
          "base_uri": "https://localhost:8080/"
        },
        "id": "xpeugjvo1I0e",
        "outputId": "13bbd06c-20f5-48b8-ddbb-a9e3ec085602"
      },
      "execution_count": 12,
      "outputs": [
        {
          "output_type": "stream",
          "name": "stdout",
          "text": [
            "+--------------+-----------+-------------+-----------+----+-----------------+\n",
            "|     review_id|star_rating|helpful_votes|total_votes|vine|verified_purchase|\n",
            "+--------------+-----------+-------------+-----------+----+-----------------+\n",
            "|R3PBQ665MBL8CP|          3|           66|         72|   Y|                N|\n",
            "|R3EMD30K7MNOZ0|          2|           20|         25|   Y|                N|\n",
            "|R2GF3ZLO2B0Y71|          5|          236|        243|   Y|                N|\n",
            "|R1F8T2Z7U3N6HL|          3|           11|         20|   Y|                N|\n",
            "| R5QTOT1GVR8RG|          4|           16|         20|   Y|                N|\n",
            "|R1KAQEESF0NUGV|          4|           27|         29|   Y|                N|\n",
            "|R1621B9AMVWI25|          2|           27|         29|   Y|                N|\n",
            "|R3FVGQVNBAZL8E|          3|           37|         44|   Y|                N|\n",
            "|R26ATTA765WHVX|          5|           21|         23|   Y|                N|\n",
            "| RMZYPFKES1ZK7|          4|           29|         33|   Y|                N|\n",
            "|R14DF0WKENBB1W|          4|           18|         21|   Y|                N|\n",
            "| RP8XXEUSRVK9W|          3|           18|         22|   Y|                N|\n",
            "|R385PHNA6E3GNZ|          5|           32|         43|   Y|                Y|\n",
            "|R3EF1FW33JGPV0|          1|           24|         30|   Y|                N|\n",
            "|R1QFLL874C1LYW|          1|           15|         27|   Y|                N|\n",
            "|R3K1A9MD4PVRH4|          2|           26|         37|   Y|                N|\n",
            "| RL6DMOWQJ56DX|          3|           19|         27|   Y|                N|\n",
            "|R2WDJTCP0CO4OF|          4|           26|         28|   Y|                N|\n",
            "| R9XFFVNYHTDOC|          3|          355|        404|   Y|                N|\n",
            "|R1ZMSEURPMYSEB|          4|           18|         20|   Y|                N|\n",
            "+--------------+-----------+-------------+-----------+----+-----------------+\n",
            "only showing top 20 rows\n",
            "\n"
          ]
        }
      ]
    },
    {
      "cell_type": "code",
      "source": [
        "vine_unpaid= helpful_votes_greater_50_percent.filter(\"vine == 'N'\")\n",
        "vine_unpaid.show()"
      ],
      "metadata": {
        "colab": {
          "base_uri": "https://localhost:8080/"
        },
        "id": "Ld5qlzfA1bSW",
        "outputId": "5786eca9-df0b-4d77-bc1b-68f0a0e94b24"
      },
      "execution_count": 13,
      "outputs": [
        {
          "output_type": "stream",
          "name": "stdout",
          "text": [
            "+--------------+-----------+-------------+-----------+----+-----------------+\n",
            "|     review_id|star_rating|helpful_votes|total_votes|vine|verified_purchase|\n",
            "+--------------+-----------+-------------+-----------+----+-----------------+\n",
            "|R31EUR60FV3BU5|          4|           32|         39|   N|                N|\n",
            "|R3MDX24QDAT0OW|          4|           35|         37|   N|                N|\n",
            "|R2YVFZB4ESDT7D|          5|          139|        141|   N|                Y|\n",
            "|R2R8EWH1JUZCSI|          5|           16|         21|   N|                N|\n",
            "|R3I8GORXGEJL3R|          4|           95|        103|   N|                Y|\n",
            "| RONWXF0J85CRR|          5|           42|         50|   N|                N|\n",
            "|R2QQJIJZIUSQBH|          1|           16|         20|   N|                N|\n",
            "|R3O7T74HRIXBE5|          5|           53|         55|   N|                Y|\n",
            "| RSU37FK0W4DPE|          4|           26|         28|   N|                N|\n",
            "|R22H100N6EUD0Y|          5|           30|         32|   N|                Y|\n",
            "| R4VC9LDQGIE5K|          5|           26|         37|   N|                N|\n",
            "| RWMH3PU2EECVA|          5|           35|         38|   N|                Y|\n",
            "|R2XTQWXL65VPOZ|          4|           22|         24|   N|                N|\n",
            "| RGIM9S035SVIA|          4|           38|         44|   N|                N|\n",
            "|R18ZPPQ2CZKG41|          5|           16|         20|   N|                N|\n",
            "|R2FK3TE1JD2UXM|          5|           40|         44|   N|                N|\n",
            "|R22X6BZQKZA30V|          1|           29|         34|   N|                Y|\n",
            "| RS3V339OCGT2D|          5|           84|         97|   N|                N|\n",
            "| RCZ5IXAQ4J4NQ|          5|           22|         36|   N|                N|\n",
            "| ROS0GMA6IUSCP|          5|           34|         36|   N|                N|\n",
            "+--------------+-----------+-------------+-----------+----+-----------------+\n",
            "only showing top 20 rows\n",
            "\n"
          ]
        }
      ]
    },
    {
      "cell_type": "code",
      "source": [
        "total_review_count=helpful_votes_greater_50_percent.select([\"review_id\"]).count()\n",
        "print(f\"Total number of reviews : {total_review_count}\")"
      ],
      "metadata": {
        "colab": {
          "base_uri": "https://localhost:8080/"
        },
        "id": "uJCrU-6u-i5A",
        "outputId": "c1a4a527-5982-459b-a437-028d0a0bdef5"
      },
      "execution_count": 14,
      "outputs": [
        {
          "output_type": "stream",
          "name": "stdout",
          "text": [
            "Total number of reviews : 151449\n"
          ]
        }
      ]
    },
    {
      "cell_type": "code",
      "source": [
        "five_star_ratings=helpful_votes_greater_50_percent.filter(\"star_rating == 5\").count()\n",
        "print(f\"Five star ratings count: {five_star_ratings}\")"
      ],
      "metadata": {
        "colab": {
          "base_uri": "https://localhost:8080/"
        },
        "id": "iIXOd_gWGKmn",
        "outputId": "77d94599-d339-4eaf-e950-49a34922e068"
      },
      "execution_count": 24,
      "outputs": [
        {
          "output_type": "stream",
          "name": "stdout",
          "text": [
            "Five star ratings count: 78070\n"
          ]
        }
      ]
    },
    {
      "cell_type": "code",
      "source": [
        "five_star_paid=vine_paid.filter(\"star_rating == 5\").count()\n",
        "print(f\"Five star paid count: {five_star_paid}\")"
      ],
      "metadata": {
        "colab": {
          "base_uri": "https://localhost:8080/"
        },
        "id": "ndWENQVIGKcE",
        "outputId": "04630682-36c6-4527-cb90-2cbbe63c475d"
      },
      "execution_count": 25,
      "outputs": [
        {
          "output_type": "stream",
          "name": "stdout",
          "text": [
            "Five star paid count: 9\n"
          ]
        }
      ]
    },
    {
      "cell_type": "code",
      "source": [
        "five_star_unpaid=vine_unpaid.filter(\"star_rating == 5\").count()\n",
        "print(f\"Five star unpaid count: {five_star_unpaid}\")"
      ],
      "metadata": {
        "colab": {
          "base_uri": "https://localhost:8080/"
        },
        "id": "90HHs54KHqBv",
        "outputId": "c00917fe-9397-4907-c73f-b2531ec5c115"
      },
      "execution_count": 26,
      "outputs": [
        {
          "output_type": "stream",
          "name": "stdout",
          "text": [
            "Five star unpaid count: 78061\n"
          ]
        }
      ]
    },
    {
      "cell_type": "code",
      "source": [
        "paid_reviews_count=vine_paid.count()\n",
        "print(f\"Paid Reviews : {paid_reviews_count}\")"
      ],
      "metadata": {
        "id": "sgrbjxzN2UA-",
        "colab": {
          "base_uri": "https://localhost:8080/"
        },
        "outputId": "629fd2aa-6e26-4fb1-c13a-0c110c08621d"
      },
      "execution_count": 27,
      "outputs": [
        {
          "output_type": "stream",
          "name": "stdout",
          "text": [
            "Paid Reviews : 49\n"
          ]
        }
      ]
    },
    {
      "cell_type": "code",
      "source": [
        "unpaid_reviews_count=vine_unpaid.count()\n",
        "print(f\"Unpaid Reviews : {unpaid_reviews_count}\")"
      ],
      "metadata": {
        "colab": {
          "base_uri": "https://localhost:8080/"
        },
        "id": "tk8FYTMO_zFj",
        "outputId": "bf56dde9-df7d-4dfc-9547-4ebda46c42b7"
      },
      "execution_count": 28,
      "outputs": [
        {
          "output_type": "stream",
          "name": "stdout",
          "text": [
            "Unpaid Reviews : 151400\n"
          ]
        }
      ]
    },
    {
      "cell_type": "code",
      "source": [
        "percentage_vine_paid = five_star_paid/paid_reviews_count\n",
        "percentage_vine_paid"
      ],
      "metadata": {
        "colab": {
          "base_uri": "https://localhost:8080/"
        },
        "id": "FP-DMgT7IXA-",
        "outputId": "993e896e-826d-4610-f51b-2d44ff62ec65"
      },
      "execution_count": 29,
      "outputs": [
        {
          "output_type": "execute_result",
          "data": {
            "text/plain": [
              "0.1836734693877551"
            ]
          },
          "metadata": {},
          "execution_count": 29
        }
      ]
    },
    {
      "cell_type": "code",
      "source": [
        "percentage_vine_unpaid = five_star_unpaid/unpaid_reviews_count\n",
        "percentage_vine_unpaid"
      ],
      "metadata": {
        "colab": {
          "base_uri": "https://localhost:8080/"
        },
        "id": "z3g2KrQqLdkQ",
        "outputId": "cee53f5e-2bca-43ce-d047-0b78e2d7a542"
      },
      "execution_count": 30,
      "outputs": [
        {
          "output_type": "execute_result",
          "data": {
            "text/plain": [
              "0.5155944517833554"
            ]
          },
          "metadata": {},
          "execution_count": 30
        }
      ]
    },
    {
      "cell_type": "code",
      "source": [
        "percentage_total_five_star = five_star_ratings/total_review_count\n",
        "percentage_total_five_star"
      ],
      "metadata": {
        "colab": {
          "base_uri": "https://localhost:8080/"
        },
        "id": "NKEj_Ug0Llmq",
        "outputId": "a45f9b5b-d0e4-41d9-c60b-d00653d68f1e"
      },
      "execution_count": 31,
      "outputs": [
        {
          "output_type": "execute_result",
          "data": {
            "text/plain": [
              "0.5154870616511169"
            ]
          },
          "metadata": {},
          "execution_count": 31
        }
      ]
    },
    {
      "cell_type": "code",
      "source": [
        "helpful_votes_greater_50_percent.select('star_rating').describe().show()"
      ],
      "metadata": {
        "colab": {
          "base_uri": "https://localhost:8080/"
        },
        "id": "uPPg_UngSEN8",
        "outputId": "54cbad9e-82db-4879-d65b-9f01e6c9bbba"
      },
      "execution_count": 32,
      "outputs": [
        {
          "output_type": "stream",
          "name": "stdout",
          "text": [
            "+-------+------------------+\n",
            "|summary|       star_rating|\n",
            "+-------+------------------+\n",
            "|  count|            151449|\n",
            "|   mean|3.8106293207614446|\n",
            "| stddev|1.5118010964835422|\n",
            "|    min|                 1|\n",
            "|    max|                 5|\n",
            "+-------+------------------+\n",
            "\n"
          ]
        }
      ]
    },
    {
      "cell_type": "code",
      "source": [
        "vine_paid.select('star_rating').describe().show()"
      ],
      "metadata": {
        "colab": {
          "base_uri": "https://localhost:8080/"
        },
        "id": "y6AvN3fkSyLU",
        "outputId": "bd8b03d9-30fa-4d52-e24b-ec13ad7b6897"
      },
      "execution_count": 33,
      "outputs": [
        {
          "output_type": "stream",
          "name": "stdout",
          "text": [
            "+-------+------------------+\n",
            "|summary|       star_rating|\n",
            "+-------+------------------+\n",
            "|  count|                49|\n",
            "|   mean|3.4081632653061225|\n",
            "| stddev|1.1165118178755578|\n",
            "|    min|                 1|\n",
            "|    max|                 5|\n",
            "+-------+------------------+\n",
            "\n"
          ]
        }
      ]
    },
    {
      "cell_type": "code",
      "source": [
        "vine_unpaid.select('star_rating').describe().show()"
      ],
      "metadata": {
        "colab": {
          "base_uri": "https://localhost:8080/"
        },
        "id": "3CeCPYP_TieX",
        "outputId": "311e3273-771c-4da4-e542-7968d5edc227"
      },
      "execution_count": 34,
      "outputs": [
        {
          "output_type": "stream",
          "name": "stdout",
          "text": [
            "+-------+------------------+\n",
            "|summary|       star_rating|\n",
            "+-------+------------------+\n",
            "|  count|            151400|\n",
            "|   mean| 3.810759577278732|\n",
            "| stddev|1.5118976818176069|\n",
            "|    min|                 1|\n",
            "|    max|                 5|\n",
            "+-------+------------------+\n",
            "\n"
          ]
        }
      ]
    },
    {
      "cell_type": "code",
      "source": [
        "df_analysis = spark.createDataFrame(\n",
        "    [\n",
        "        (\"Y\",vine_paid.count(), vine_paid.filter(\"star_rating == 5\").count(),five_star_paid/paid_reviews_count),\n",
        "        (\"N\",vine_unpaid.count(), vine_unpaid.filter(\"star_rating == 5\").count(),five_star_unpaid/unpaid_reviews_count),\n",
        "    \n",
        "    ],\n",
        "    [\"Vine\",\"Total\",\"Five Star\",\"Percentage\"]\n",
        ")"
      ],
      "metadata": {
        "id": "KCjcEHjvYfSm"
      },
      "execution_count": 61,
      "outputs": []
    },
    {
      "cell_type": "code",
      "source": [
        "df_analysis.show()"
      ],
      "metadata": {
        "colab": {
          "base_uri": "https://localhost:8080/"
        },
        "id": "k2mYwgyNNCph",
        "outputId": "26db58b0-c80c-4555-9422-9906fbcee6f1"
      },
      "execution_count": 59,
      "outputs": [
        {
          "output_type": "stream",
          "name": "stdout",
          "text": [
            "+----+------+---------+------------------+\n",
            "|Vine| Total|Five Star|        Percentage|\n",
            "+----+------+---------+------------------+\n",
            "|   Y|    49|        9|0.1836734693877551|\n",
            "|   N|151400|    78061|0.5155944517833554|\n",
            "+----+------+---------+------------------+\n",
            "\n"
          ]
        }
      ]
    }
  ]
}