{
  "cells": [
    {
      "cell_type": "code",
      "execution_count": 1,
      "metadata": {
        "colab": {
          "base_uri": "https://localhost:8080/"
        },
        "id": "V58rxea0HqSa",
        "outputId": "983506c9-2455-4da8-a561-2ea491dbbd81"
      },
      "outputs": [
        {
          "output_type": "stream",
          "name": "stdout",
          "text": [
            "\r0% [Working]\r            \rGet:1 http://security.ubuntu.com/ubuntu bionic-security InRelease [88.7 kB]\n",
            "\r0% [Connecting to archive.ubuntu.com (185.125.190.39)] [1 InRelease 14.2 kB/88.\r0% [Connecting to archive.ubuntu.com (185.125.190.39)] [Waiting for headers] [C\r                                                                               \rGet:2 https://cloud.r-project.org/bin/linux/ubuntu bionic-cran40/ InRelease [3,626 B]\n",
            "\r0% [Connecting to archive.ubuntu.com (185.125.190.39)] [Waiting for headers] [C\r0% [1 InRelease gpgv 88.7 kB] [Connecting to archive.ubuntu.com (185.125.190.39\r                                                                               \rHit:3 http://archive.ubuntu.com/ubuntu bionic InRelease\n",
            "\r0% [1 InRelease gpgv 88.7 kB] [Waiting for headers] [Waiting for headers] [Wait\r                                                                               \rHit:4 http://ppa.launchpad.net/c2d4u.team/c2d4u4.0+/ubuntu bionic InRelease\n",
            "\r0% [1 InRelease gpgv 88.7 kB] [Waiting for headers] [Waiting for headers] [Conn\r                                                                               \rIgn:5 https://developer.download.nvidia.com/compute/machine-learning/repos/ubuntu1804/x86_64  InRelease\n",
            "Get:6 https://developer.download.nvidia.com/compute/cuda/repos/ubuntu1804/x86_64  InRelease [1,581 B]\n",
            "Hit:7 https://developer.download.nvidia.com/compute/machine-learning/repos/ubuntu1804/x86_64  Release\n",
            "Get:8 http://archive.ubuntu.com/ubuntu bionic-updates InRelease [88.7 kB]\n",
            "Hit:9 http://ppa.launchpad.net/cran/libgit2/ubuntu bionic InRelease\n",
            "Hit:10 http://ppa.launchpad.net/deadsnakes/ppa/ubuntu bionic InRelease\n",
            "Get:11 http://archive.ubuntu.com/ubuntu bionic-backports InRelease [83.3 kB]\n",
            "Get:12 http://security.ubuntu.com/ubuntu bionic-security/universe amd64 Packages [1,567 kB]\n",
            "Hit:13 http://ppa.launchpad.net/graphics-drivers/ppa/ubuntu bionic InRelease\n",
            "Get:14 http://security.ubuntu.com/ubuntu bionic-security/main amd64 Packages [3,099 kB]\n",
            "Get:15 http://security.ubuntu.com/ubuntu bionic-security/restricted amd64 Packages [1,311 kB]\n",
            "Get:16 https://developer.download.nvidia.com/compute/cuda/repos/ubuntu1804/x86_64  Packages [1,073 kB]\n",
            "Get:18 http://archive.ubuntu.com/ubuntu bionic-updates/restricted amd64 Packages [1,352 kB]\n",
            "Get:19 http://archive.ubuntu.com/ubuntu bionic-updates/main amd64 Packages [3,524 kB]\n",
            "Get:20 http://archive.ubuntu.com/ubuntu bionic-updates/universe amd64 Packages [2,342 kB]\n",
            "Fetched 14.5 MB in 8s (1,906 kB/s)\n",
            "Reading package lists... Done\n"
          ]
        }
      ],
      "source": [
        "import os\n",
        "# Find the latest version of spark 3.2 from http://www.apache.org/dist/spark/ and enter as the spark version\n",
        "# For example:\n",
        "# spark_version = 'spark-3.2.3'\n",
        "spark_version = 'spark-3.2.3'\n",
        "os.environ['SPARK_VERSION']=spark_version\n",
        "\n",
        "# Install Spark and Java\n",
        "!apt-get update\n",
        "!apt-get install openjdk-11-jdk-headless -qq > /dev/null\n",
        "!wget -q http://www.apache.org/dist/spark/$SPARK_VERSION/$SPARK_VERSION-bin-hadoop2.7.tgz\n",
        "!tar xf $SPARK_VERSION-bin-hadoop2.7.tgz\n",
        "!pip install -q findspark\n",
        "\n",
        "# Set Environment Variables\n",
        "import os\n",
        "os.environ[\"JAVA_HOME\"] = \"/usr/lib/jvm/java-11-openjdk-amd64\"\n",
        "os.environ[\"SPARK_HOME\"] = f\"/content/{spark_version}-bin-hadoop2.7\"\n",
        "\n",
        "# Start a SparkSession\n",
        "import findspark\n",
        "findspark.init()"
      ]
    },
    {
      "cell_type": "code",
      "execution_count": 2,
      "metadata": {
        "colab": {
          "base_uri": "https://localhost:8080/"
        },
        "id": "_xKwTpATHqSe",
        "outputId": "8e66dd45-7bf9-4f02-f847-3821332dfc63"
      },
      "outputs": [
        {
          "output_type": "stream",
          "name": "stdout",
          "text": [
            "--2022-12-10 06:09:50--  https://jdbc.postgresql.org/download/postgresql-42.2.16.jar\n",
            "Resolving jdbc.postgresql.org (jdbc.postgresql.org)... 72.32.157.228, 2001:4800:3e1:1::228\n",
            "Connecting to jdbc.postgresql.org (jdbc.postgresql.org)|72.32.157.228|:443... connected.\n",
            "HTTP request sent, awaiting response... 200 OK\n",
            "Length: 1002883 (979K) [application/java-archive]\n",
            "Saving to: ‘postgresql-42.2.16.jar’\n",
            "\n",
            "postgresql-42.2.16. 100%[===================>] 979.38K  5.58MB/s    in 0.2s    \n",
            "\n",
            "2022-12-10 06:09:51 (5.58 MB/s) - ‘postgresql-42.2.16.jar’ saved [1002883/1002883]\n",
            "\n"
          ]
        }
      ],
      "source": [
        "# Download the Postgres driver that will allow Spark to interact with Postgres.\n",
        "!wget https://jdbc.postgresql.org/download/postgresql-42.2.16.jar"
      ]
    },
    {
      "cell_type": "code",
      "execution_count": 3,
      "metadata": {
        "id": "MMqDAjVS0KN9"
      },
      "outputs": [],
      "source": [
        "from pyspark.sql import SparkSession\n",
        "spark = SparkSession.builder.appName(\"M17-Amazon-Challenge\").config(\"spark.driver.extraClassPath\",\"/content/postgresql-42.2.16.jar\").getOrCreate()"
      ]
    },
    {
      "cell_type": "markdown",
      "metadata": {
        "id": "cyBsySGuY-9V"
      },
      "source": [
        "### Load Amazon Data into Spark DataFrame"
      ]
    },
    {
      "cell_type": "code",
      "execution_count": 4,
      "metadata": {
        "id": "CtCmBhQJY-9Z",
        "colab": {
          "base_uri": "https://localhost:8080/"
        },
        "outputId": "f342af3e-92c7-402e-9c85-dfabd1d8f219"
      },
      "outputs": [
        {
          "output_type": "stream",
          "name": "stdout",
          "text": [
            "+-----------+-----------+--------------+----------+--------------+--------------------+----------------+-----------+-------------+-----------+----+-----------------+--------------------+--------------------+-----------+\n",
            "|marketplace|customer_id|     review_id|product_id|product_parent|       product_title|product_category|star_rating|helpful_votes|total_votes|vine|verified_purchase|     review_headline|         review_body|review_date|\n",
            "+-----------+-----------+--------------+----------+--------------+--------------------+----------------+-----------+-------------+-----------+----+-----------------+--------------------+--------------------+-----------+\n",
            "|         US|   27288431| R33UPQQUZQEM8|B005T4ND06|     400024643|Yoga for Movement...|       Video DVD|          5|            3|          3|   N|                Y|This was a gift f...|This was a gift f...| 2015-08-31|\n",
            "|         US|   13722556|R3IKTNQQPD9662|B004EPZ070|     685335564|  Something Borrowed|       Video DVD|          5|            0|          0|   N|                Y|          Five Stars| Teats my heart out.| 2015-08-31|\n",
            "|         US|   20381037|R3U27V5QMCP27T|B005S9EKCW|     922008804|Les Miserables (2...|       Video DVD|          5|            1|          1|   N|                Y|        Great movie!|        Great movie.| 2015-08-31|\n",
            "|         US|   24852644|R2TOH2QKNK4IOC|B00FC1ZCB4|     326560548|Alien Anthology a...|       Video DVD|          5|            0|          1|   N|                Y|             Amazing|My husband was so...| 2015-08-31|\n",
            "|         US|   15556113|R2XQG5NJ59UFMY|B002ZG98Z0|     637495038|  Sex and the City 2|       Video DVD|          5|            0|          0|   N|                Y|          Five Stars|   Love this series.| 2015-08-31|\n",
            "|         US|    6132474|R1N1KHBRR4ZTX3|B00X8RONBO|     896602391|When Calls The He...|       Video DVD|          5|            0|          0|   N|                Y|          Five Stars|            love it!| 2015-08-31|\n",
            "|         US|   48049524|R3OM9S0TCBP38K|B000CEXFZG|     115883890|Teen Titans - The...|       Video DVD|          5|            0|          0|   N|                Y|               Great|Better than the c...| 2015-08-31|\n",
            "|         US|    3282516|R1W4S949ZRCTBW|B00ID8H8EW|     977932459|      Generation War|       Video DVD|          5|            0|          0|   N|                Y|          Five Stars|I really emjoyed ...| 2015-08-31|\n",
            "|         US|   51771179|R18JL1NNQAZFV2|B000TGJ8IU|     840084782|Troy  (Director's...|       Video DVD|          5|            0|          0|   N|                Y|          Five Stars|Awesome movie, we...| 2015-08-31|\n",
            "|         US|   31816501|R1LP6PR06OPYUX|B00DPMPTDS|     262144920|Faith Aka the Gre...|       Video DVD|          4|            0|          0|   N|                Y|a beautiful fanta...|...a beautiful fa...| 2015-08-31|\n",
            "|         US|   16164990| RZKBT035JA0UQ|B00X797LUS|     883589001|   Revenge: Season 4|       Video DVD|          5|            1|          2|   N|                Y|  It's a hit with me|I don't usually w...| 2015-08-31|\n",
            "|         US|   33386989|R253N5W74SM7N3|B00C6MXB42|     734735137|YOUNG INDIANA JON...|       Video DVD|          4|            1|          1|   N|                Y|great stuff. I th...|great stuff.  I t...| 2015-08-31|\n",
            "|         US|   45486371|R2D5IFTFPHD3RN|B000EZ9084|     821764517|     Survival Island|       Video DVD|          4|            1|          1|   N|                Y|          Four Stars|           very good| 2015-08-31|\n",
            "|         US|   14006420|R1CECK3H1URK1G|B000CEXFZG|     115883890|Teen Titans - The...|       Video DVD|          5|            0|          0|   N|                Y|          Five Stars|Kids love the DVD...| 2015-08-31|\n",
            "|         US|   23411619|R11MHQRE45204T|B00KXEM6XM|     651533797|     Fargo: Season 1|       Video DVD|          5|            0|          0|   N|                Y|A wonderful cover...|Great news Fargo ...| 2015-08-31|\n",
            "|         US|    3202332| RSX9F068J0GXJ|B0036K9CM8|     231498541|Disney Parks: The...|       Video DVD|          5|            0|          0|   N|                Y|We love Disney an...|We love Disney an...| 2015-08-31|\n",
            "|         US|   32012808|R1TUMFHZBBOWKL|B00G3HOJZ6|     847624020|Young Detective D...|       Video DVD|          5|            0|          0|   N|                Y|Excellent Movie f...|This is a surpris...| 2015-08-31|\n",
            "|         US|   36507765| R8IZ1G1TWGK0E|B00V5E7YR2|     478422254|The Divergent Ser...|       Video DVD|          5|            0|          0|   N|                Y|          Five Stars|          Good movie| 2015-08-31|\n",
            "|         US|   13696097|R1CBN0585B7BI4|B005BUA1JY|     700104332|Barney Miller: Th...|       Video DVD|          5|            0|          1|   N|                Y|          Five Stars|This show is a cl...| 2015-08-31|\n",
            "|         US|    2190805|R2PJOAZ9I3D8O8|B00YCY46VO|     710263340|Inside Out (Blu-r...|       Video DVD|          5|            2|          2|   N|                N|An Instant Master...|Inside Out revolv...| 2015-08-31|\n",
            "+-----------+-----------+--------------+----------+--------------+--------------------+----------------+-----------+-------------+-----------+----+-----------------+--------------------+--------------------+-----------+\n",
            "only showing top 20 rows\n",
            "\n"
          ]
        }
      ],
      "source": [
        "from pyspark import SparkFiles\n",
        "url = \"https://s3.amazonaws.com/amazon-reviews-pds/tsv/amazon_reviews_us_Video_DVD_v1_00.tsv.gz\"\n",
        "spark.sparkContext.addFile(url)\n",
        "df = spark.read.option(\"encoding\", \"UTF-8\").csv(SparkFiles.get(\"\"), sep=\"\\t\", header=True, inferSchema=True)\n",
        "df.show()"
      ]
    },
    {
      "cell_type": "markdown",
      "metadata": {
        "id": "2yUSe55VY-9t"
      },
      "source": [
        "### Create DataFrames to match tables"
      ]
    },
    {
      "cell_type": "code",
      "execution_count": 5,
      "metadata": {
        "id": "C8REmY1aY-9u",
        "colab": {
          "base_uri": "https://localhost:8080/"
        },
        "outputId": "2e53c4c9-ea03-41b4-fa75-ae60d0d801ba"
      },
      "outputs": [
        {
          "output_type": "stream",
          "name": "stdout",
          "text": [
            "+--------------+-----------+----------+--------------+-----------+\n",
            "|     review_id|customer_id|product_id|product_parent|review_date|\n",
            "+--------------+-----------+----------+--------------+-----------+\n",
            "| R33UPQQUZQEM8|   27288431|B005T4ND06|     400024643| 2015-08-31|\n",
            "|R3IKTNQQPD9662|   13722556|B004EPZ070|     685335564| 2015-08-31|\n",
            "|R3U27V5QMCP27T|   20381037|B005S9EKCW|     922008804| 2015-08-31|\n",
            "|R2TOH2QKNK4IOC|   24852644|B00FC1ZCB4|     326560548| 2015-08-31|\n",
            "|R2XQG5NJ59UFMY|   15556113|B002ZG98Z0|     637495038| 2015-08-31|\n",
            "|R1N1KHBRR4ZTX3|    6132474|B00X8RONBO|     896602391| 2015-08-31|\n",
            "|R3OM9S0TCBP38K|   48049524|B000CEXFZG|     115883890| 2015-08-31|\n",
            "|R1W4S949ZRCTBW|    3282516|B00ID8H8EW|     977932459| 2015-08-31|\n",
            "|R18JL1NNQAZFV2|   51771179|B000TGJ8IU|     840084782| 2015-08-31|\n",
            "|R1LP6PR06OPYUX|   31816501|B00DPMPTDS|     262144920| 2015-08-31|\n",
            "| RZKBT035JA0UQ|   16164990|B00X797LUS|     883589001| 2015-08-31|\n",
            "|R253N5W74SM7N3|   33386989|B00C6MXB42|     734735137| 2015-08-31|\n",
            "|R2D5IFTFPHD3RN|   45486371|B000EZ9084|     821764517| 2015-08-31|\n",
            "|R1CECK3H1URK1G|   14006420|B000CEXFZG|     115883890| 2015-08-31|\n",
            "|R11MHQRE45204T|   23411619|B00KXEM6XM|     651533797| 2015-08-31|\n",
            "| RSX9F068J0GXJ|    3202332|B0036K9CM8|     231498541| 2015-08-31|\n",
            "|R1TUMFHZBBOWKL|   32012808|B00G3HOJZ6|     847624020| 2015-08-31|\n",
            "| R8IZ1G1TWGK0E|   36507765|B00V5E7YR2|     478422254| 2015-08-31|\n",
            "|R1CBN0585B7BI4|   13696097|B005BUA1JY|     700104332| 2015-08-31|\n",
            "|R2PJOAZ9I3D8O8|    2190805|B00YCY46VO|     710263340| 2015-08-31|\n",
            "+--------------+-----------+----------+--------------+-----------+\n",
            "only showing top 20 rows\n",
            "\n"
          ]
        }
      ],
      "source": [
        "from pyspark.sql.functions import to_date\n",
        "# Read in the Review dataset as a DataFrame\n",
        "df_review= df.select([\"review_id\",\"customer_id\",\"product_id\", \"product_parent\", \"review_date\"])\n",
        "df_review.show()"
      ]
    },
    {
      "cell_type": "code",
      "source": [
        "customers_df = df.groupby(\"customer_id\").agg({\"customer_id\":\"count\"})\n",
        "customers_df=customers_df.withColumnRenamed(\"count(customer_id)\",\"customer_count\")\n",
        "customers_df.show()"
      ],
      "metadata": {
        "colab": {
          "base_uri": "https://localhost:8080/"
        },
        "id": "r3HqTGad2LxD",
        "outputId": "9330a5df-2a17-4e46-cb89-df42739b9f9f"
      },
      "execution_count": 6,
      "outputs": [
        {
          "output_type": "stream",
          "name": "stdout",
          "text": [
            "+-----------+--------------+\n",
            "|customer_id|customer_count|\n",
            "+-----------+--------------+\n",
            "|   24423656|             8|\n",
            "|   24297214|             1|\n",
            "|   12879980|             3|\n",
            "|     515450|             2|\n",
            "|   13313689|             1|\n",
            "|   15523729|             4|\n",
            "|    1673863|             1|\n",
            "|   14552054|             2|\n",
            "|   45392827|            14|\n",
            "|   44178035|             1|\n",
            "|   10522786|            10|\n",
            "|   44848424|             3|\n",
            "|   14230926|             1|\n",
            "|   49243158|           274|\n",
            "|   49084939|            10|\n",
            "|   28777148|            41|\n",
            "|   41836864|             1|\n",
            "|    5219946|             1|\n",
            "|   37795150|             1|\n",
            "|   52081222|             1|\n",
            "+-----------+--------------+\n",
            "only showing top 20 rows\n",
            "\n"
          ]
        }
      ]
    },
    {
      "cell_type": "code",
      "execution_count": 18,
      "metadata": {
        "id": "4FwXA6UvY-96",
        "colab": {
          "base_uri": "https://localhost:8080/"
        },
        "outputId": "58d2860b-39f0-43a7-c838-b4a485805b5e"
      },
      "outputs": [
        {
          "output_type": "stream",
          "name": "stdout",
          "text": [
            "+----------+--------------------+\n",
            "|product_id|       product_title|\n",
            "+----------+--------------------+\n",
            "|0000143502|Rise and Swine (G...|\n",
            "|0000143529|My Fair Pastry (G...|\n",
            "|000014357X|Everyday Italian ...|\n",
            "|0000143588|Barefoot Contessa...|\n",
            "|0000791156|Spirit Led—Moving...|\n",
            "|000107461X|Live in Houston [...|\n",
            "|000503860X|Chapter X Live [VHS]|\n",
            "|0005119340|       Abraham [VHS]|\n",
            "|0017702313|Planet Earth: The...|\n",
            "|0060511109|   The Secret Sister|\n",
            "|0060594551|Memories of John ...|\n",
            "|0060738170|Misquoting Jesus:...|\n",
            "|0073259152|Bien vu bien dit DVD|\n",
            "|0073325570|DVD program to ac...|\n",
            "|0077270444|     DVD t/a Avanti!|\n",
            "|0078296757|Dinah Zike's Teac...|\n",
            "|0078698146|Command Performan...|\n",
            "|0126604258|The History of Ne...|\n",
            "|0131904388|CHEMISTRY ALIVE H...|\n",
            "|0132411822|VIDEO DVD KEYSTONE A|\n",
            "+----------+--------------------+\n",
            "only showing top 20 rows\n",
            "\n"
          ]
        }
      ],
      "source": [
        "# Create the products_table DataFrame and drop duplicates. \n",
        "products_df = df.select([\"product_id\",\"product_title\"]).dropDuplicates([\"product_id\"])\n",
        "products_df.show()"
      ]
    },
    {
      "cell_type": "code",
      "execution_count": 8,
      "metadata": {
        "id": "MkqyCuNQY-9-",
        "colab": {
          "base_uri": "https://localhost:8080/"
        },
        "outputId": "6867136a-a667-4820-8321-6645069dde9b"
      },
      "outputs": [
        {
          "output_type": "stream",
          "name": "stdout",
          "text": [
            "+--------------+-----------+----------+--------------+-----------+\n",
            "|     review_id|customer_id|product_id|product_parent|review_date|\n",
            "+--------------+-----------+----------+--------------+-----------+\n",
            "| R33UPQQUZQEM8|   27288431|B005T4ND06|     400024643| 2015-08-31|\n",
            "|R3IKTNQQPD9662|   13722556|B004EPZ070|     685335564| 2015-08-31|\n",
            "|R3U27V5QMCP27T|   20381037|B005S9EKCW|     922008804| 2015-08-31|\n",
            "|R2TOH2QKNK4IOC|   24852644|B00FC1ZCB4|     326560548| 2015-08-31|\n",
            "|R2XQG5NJ59UFMY|   15556113|B002ZG98Z0|     637495038| 2015-08-31|\n",
            "|R1N1KHBRR4ZTX3|    6132474|B00X8RONBO|     896602391| 2015-08-31|\n",
            "|R3OM9S0TCBP38K|   48049524|B000CEXFZG|     115883890| 2015-08-31|\n",
            "|R1W4S949ZRCTBW|    3282516|B00ID8H8EW|     977932459| 2015-08-31|\n",
            "|R18JL1NNQAZFV2|   51771179|B000TGJ8IU|     840084782| 2015-08-31|\n",
            "|R1LP6PR06OPYUX|   31816501|B00DPMPTDS|     262144920| 2015-08-31|\n",
            "| RZKBT035JA0UQ|   16164990|B00X797LUS|     883589001| 2015-08-31|\n",
            "|R253N5W74SM7N3|   33386989|B00C6MXB42|     734735137| 2015-08-31|\n",
            "|R2D5IFTFPHD3RN|   45486371|B000EZ9084|     821764517| 2015-08-31|\n",
            "|R1CECK3H1URK1G|   14006420|B000CEXFZG|     115883890| 2015-08-31|\n",
            "|R11MHQRE45204T|   23411619|B00KXEM6XM|     651533797| 2015-08-31|\n",
            "| RSX9F068J0GXJ|    3202332|B0036K9CM8|     231498541| 2015-08-31|\n",
            "|R1TUMFHZBBOWKL|   32012808|B00G3HOJZ6|     847624020| 2015-08-31|\n",
            "| R8IZ1G1TWGK0E|   36507765|B00V5E7YR2|     478422254| 2015-08-31|\n",
            "|R1CBN0585B7BI4|   13696097|B005BUA1JY|     700104332| 2015-08-31|\n",
            "|R2PJOAZ9I3D8O8|    2190805|B00YCY46VO|     710263340| 2015-08-31|\n",
            "+--------------+-----------+----------+--------------+-----------+\n",
            "only showing top 20 rows\n",
            "\n"
          ]
        }
      ],
      "source": [
        "# Create the review_id_table DataFrame. \n",
        "# Convert the 'review_date' column to a date datatype with to_date(\"review_date\", 'yyyy-MM-dd').alias(\"review_date\")\n",
        "review_id_df = df_review.select([\"review_id\",\"customer_id\",\"product_id\", \"product_parent\", to_date(\"review_date\", 'yyyy-MM-dd').alias(\"review_date\")])\n",
        "review_id_df.show()"
      ]
    },
    {
      "cell_type": "code",
      "execution_count": 9,
      "metadata": {
        "id": "lzMmkdKmY--D",
        "colab": {
          "base_uri": "https://localhost:8080/"
        },
        "outputId": "3141b053-109f-40e6-e528-b805500d7879"
      },
      "outputs": [
        {
          "output_type": "stream",
          "name": "stdout",
          "text": [
            "+--------------+-----------+-------------+-----------+----+-----------------+\n",
            "|     review_id|star_rating|helpful_votes|total_votes|vine|verified_purchase|\n",
            "+--------------+-----------+-------------+-----------+----+-----------------+\n",
            "| R33UPQQUZQEM8|          5|            3|          3|   N|                Y|\n",
            "|R3IKTNQQPD9662|          5|            0|          0|   N|                Y|\n",
            "|R3U27V5QMCP27T|          5|            1|          1|   N|                Y|\n",
            "|R2TOH2QKNK4IOC|          5|            0|          1|   N|                Y|\n",
            "|R2XQG5NJ59UFMY|          5|            0|          0|   N|                Y|\n",
            "|R1N1KHBRR4ZTX3|          5|            0|          0|   N|                Y|\n",
            "|R3OM9S0TCBP38K|          5|            0|          0|   N|                Y|\n",
            "|R1W4S949ZRCTBW|          5|            0|          0|   N|                Y|\n",
            "|R18JL1NNQAZFV2|          5|            0|          0|   N|                Y|\n",
            "|R1LP6PR06OPYUX|          4|            0|          0|   N|                Y|\n",
            "| RZKBT035JA0UQ|          5|            1|          2|   N|                Y|\n",
            "|R253N5W74SM7N3|          4|            1|          1|   N|                Y|\n",
            "|R2D5IFTFPHD3RN|          4|            1|          1|   N|                Y|\n",
            "|R1CECK3H1URK1G|          5|            0|          0|   N|                Y|\n",
            "|R11MHQRE45204T|          5|            0|          0|   N|                Y|\n",
            "| RSX9F068J0GXJ|          5|            0|          0|   N|                Y|\n",
            "|R1TUMFHZBBOWKL|          5|            0|          0|   N|                Y|\n",
            "| R8IZ1G1TWGK0E|          5|            0|          0|   N|                Y|\n",
            "|R1CBN0585B7BI4|          5|            0|          1|   N|                Y|\n",
            "|R2PJOAZ9I3D8O8|          5|            2|          2|   N|                N|\n",
            "+--------------+-----------+-------------+-----------+----+-----------------+\n",
            "only showing top 20 rows\n",
            "\n"
          ]
        }
      ],
      "source": [
        "# Create the vine_table. DataFrame\n",
        "vine_df = df.select([\"review_id\",\"star_rating\",\"helpful_votes\",\"total_votes\",\"vine\",\"verified_purchase\"])\n",
        "vine_df.show()"
      ]
    },
    {
      "cell_type": "markdown",
      "metadata": {
        "id": "jITZhLkmY--J"
      },
      "source": [
        "### Connect to the AWS RDS instance and write each DataFrame to its table. "
      ]
    },
    {
      "cell_type": "markdown",
      "source": [
        "# New Section"
      ],
      "metadata": {
        "id": "EyYJwcbnaBgo"
      }
    },
    {
      "cell_type": "code",
      "source": [
        "#Store environmental variable\n",
        "from getpass import getpass\n",
        "password=getpass('Enter database password')"
      ],
      "metadata": {
        "colab": {
          "base_uri": "https://localhost:8080/"
        },
        "id": "gFLbj_kh8WpE",
        "outputId": "8de512d1-16db-4647-c92e-5c78e00d110b"
      },
      "execution_count": 10,
      "outputs": [
        {
          "name": "stdout",
          "output_type": "stream",
          "text": [
            "Enter database password··········\n"
          ]
        }
      ]
    },
    {
      "cell_type": "code",
      "execution_count": 11,
      "metadata": {
        "id": "7jiUvs1aY--L"
      },
      "outputs": [],
      "source": [
        "# Configure settings for RDS\n",
        "mode = \"append\"\n",
        "jdbc_url=\"jdbc:postgresql://reviews-database.civfkqrugmdl.us-east-1.rds.amazonaws.com:5432/Amazon_Reviews\"\n",
        "config = {\"user\":\"postgres\", \n",
        "          \"password\": password, \n",
        "          \"driver\":\"org.postgresql.Driver\"}"
      ]
    },
    {
      "cell_type": "code",
      "execution_count": 12,
      "metadata": {
        "id": "T2zgZ-aKY--Q"
      },
      "outputs": [],
      "source": [
        "# Write review_id_df to table in RDS\n",
        "review_id_df.write.jdbc(url=jdbc_url, table='review_id_table', mode=mode, properties=config)"
      ]
    },
    {
      "cell_type": "code",
      "execution_count": 19,
      "metadata": {
        "id": "1m3yzn-LY--U"
      },
      "outputs": [],
      "source": [
        "# Write products_df to table in RDS\n",
        "# about 3 min\n",
        "products_df.write.jdbc(url=jdbc_url, table='products_table', mode=mode, properties=config)"
      ]
    },
    {
      "cell_type": "code",
      "execution_count": 20,
      "metadata": {
        "id": "KbXri15fY--Z"
      },
      "outputs": [],
      "source": [
        "# Write customers_df to table in RDS\n",
        "# 5 min 14 s\n",
        "customers_df.write.jdbc(url=jdbc_url, table='customers_table', mode=mode, properties=config)"
      ]
    },
    {
      "cell_type": "code",
      "execution_count": 21,
      "metadata": {
        "id": "XdQknSHLY--e"
      },
      "outputs": [],
      "source": [
        "# Write vine_df to table in RDS\n",
        "# 11 minutes\n",
        "vine_df.write.jdbc(url=jdbc_url, table='vine_table', mode=mode, properties=config)"
      ]
    },
    {
      "cell_type": "code",
      "execution_count": null,
      "metadata": {
        "id": "Exuo6ebUsCqW"
      },
      "outputs": [],
      "source": []
    }
  ],
  "metadata": {
    "colab": {
      "provenance": []
    },
    "kernelspec": {
      "display_name": "Python 3 (ipykernel)",
      "language": "python",
      "name": "python3"
    },
    "language_info": {
      "codemirror_mode": {
        "name": "ipython",
        "version": 3
      },
      "file_extension": ".py",
      "mimetype": "text/x-python",
      "name": "python",
      "nbconvert_exporter": "python",
      "pygments_lexer": "ipython3",
      "version": "3.8.13"
    },
    "nteract": {
      "version": "0.12.3"
    }
  },
  "nbformat": 4,
  "nbformat_minor": 0
}